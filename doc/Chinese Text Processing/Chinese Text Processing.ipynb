{
 "cells": [
  {
   "cell_type": "markdown",
   "metadata": {},
   "source": [
    "## 0. Introduction\n",
    "   * Structure:\n",
    "       + Data Loading\n",
    "       + Balanced Corpus\n",
    "       + Text Processing with Modules\n",
    "           - Jieba\n",
    "           - pkuseg\n",
    "           - THULAC\n",
    "       \n",
    "       \n",
    "   * Data Souce:\n",
    "       A Food Delivery Comments Dataset from an Anonymous Author."
   ]
  },
  {
   "cell_type": "markdown",
   "metadata": {},
   "source": [
    "## 1. Data Loading"
   ]
  },
  {
   "cell_type": "code",
   "execution_count": 10,
   "metadata": {},
   "outputs": [
    {
     "name": "stderr",
     "output_type": "stream",
     "text": [
      "Using TensorFlow backend.\n"
     ]
    }
   ],
   "source": [
    "import pandas as pd\n",
    "from keras.preprocessing.text import Tokenizer"
   ]
  },
  {
   "cell_type": "code",
   "execution_count": 2,
   "metadata": {},
   "outputs": [
    {
     "name": "stdout",
     "output_type": "stream",
     "text": [
      "Overall size：11987\n",
      "Positive comments：4000\n",
      "Negative comments：7987\n"
     ]
    }
   ],
   "source": [
    "data = pd.read_csv('data/Food_Delivery.csv')\n",
    "\n",
    "print('Overall size：%d' % data.shape[0])\n",
    "print('Positive comments：%d' % data[data.label==1].shape[0])\n",
    "print('Negative comments：%d' % data[data.label==0].shape[0])"
   ]
  },
  {
   "cell_type": "code",
   "execution_count": 3,
   "metadata": {},
   "outputs": [
    {
     "data": {
      "text/html": [
       "<div>\n",
       "<style scoped>\n",
       "    .dataframe tbody tr th:only-of-type {\n",
       "        vertical-align: middle;\n",
       "    }\n",
       "\n",
       "    .dataframe tbody tr th {\n",
       "        vertical-align: top;\n",
       "    }\n",
       "\n",
       "    .dataframe thead th {\n",
       "        text-align: right;\n",
       "    }\n",
       "</style>\n",
       "<table border=\"1\" class=\"dataframe\">\n",
       "  <thead>\n",
       "    <tr style=\"text-align: right;\">\n",
       "      <th></th>\n",
       "      <th>label</th>\n",
       "      <th>review</th>\n",
       "    </tr>\n",
       "  </thead>\n",
       "  <tbody>\n",
       "    <tr>\n",
       "      <th>11732</th>\n",
       "      <td>0</td>\n",
       "      <td>送餐员态度很好，唯一不足是送餐时间较长</td>\n",
       "    </tr>\n",
       "    <tr>\n",
       "      <th>4941</th>\n",
       "      <td>0</td>\n",
       "      <td>因为楼层很多所以让人去校门口自取，好懒……</td>\n",
       "    </tr>\n",
       "    <tr>\n",
       "      <th>4505</th>\n",
       "      <td>0</td>\n",
       "      <td>肘子卷太油腻,可能个人不太适应这个肥肉,味道真贵还好</td>\n",
       "    </tr>\n",
       "    <tr>\n",
       "      <th>7052</th>\n",
       "      <td>0</td>\n",
       "      <td>送餐的是个SB，吃的全都撒出来了，而且这人只送到电梯，一步都不多走，还得自己走一段去拿。饺子全凉的</td>\n",
       "    </tr>\n",
       "    <tr>\n",
       "      <th>9870</th>\n",
       "      <td>0</td>\n",
       "      <td>超级差，都快两个小时了没送来，我定的是晚餐吗？？电话也打不通，定他家的饭能等出胃病来！已经打...</td>\n",
       "    </tr>\n",
       "  </tbody>\n",
       "</table>\n",
       "</div>"
      ],
      "text/plain": [
       "       label                                             review\n",
       "11732      0                                送餐员态度很好，唯一不足是送餐时间较长\n",
       "4941       0                              因为楼层很多所以让人去校门口自取，好懒……\n",
       "4505       0                         肘子卷太油腻,可能个人不太适应这个肥肉,味道真贵还好\n",
       "7052       0  送餐的是个SB，吃的全都撒出来了，而且这人只送到电梯，一步都不多走，还得自己走一段去拿。饺子全凉的\n",
       "9870       0  超级差，都快两个小时了没送来，我定的是晚餐吗？？电话也打不通，定他家的饭能等出胃病来！已经打..."
      ]
     },
     "execution_count": 3,
     "metadata": {},
     "output_type": "execute_result"
    }
   ],
   "source": [
    "data.sample(5)"
   ]
  },
  {
   "cell_type": "markdown",
   "metadata": {},
   "source": [
    "## 2. Balanced Corpus"
   ]
  },
  {
   "cell_type": "code",
   "execution_count": 4,
   "metadata": {},
   "outputs": [],
   "source": [
    "positive = data[data.label==1]\n",
    "negative = data[data.label==0]\n",
    "\n",
    "def get_balance_corpus(corpus_size, corpus_pos, corpus_neg):\n",
    "    sample_size = corpus_size // 2\n",
    "    pd_corpus_balance = pd.concat([corpus_pos.sample(sample_size, replace=corpus_pos.shape[0]<sample_size), \\\n",
    "                                   corpus_neg.sample(sample_size, replace=corpus_neg.shape[0]<sample_size)])\n",
    "    \n",
    "    print('Overall size：%d' % pd_corpus_balance.shape[0])\n",
    "    print('Positive comments：%d' % pd_corpus_balance[pd_corpus_balance.label==1].shape[0])\n",
    "    print('Negative comments：%d' % pd_corpus_balance[pd_corpus_balance.label==0].shape[0])    \n",
    "    \n",
    "    return pd_corpus_balance"
   ]
  },
  {
   "cell_type": "code",
   "execution_count": 5,
   "metadata": {},
   "outputs": [
    {
     "name": "stdout",
     "output_type": "stream",
     "text": [
      "Overall size：10000\n",
      "Positive comments：5000\n",
      "Negative comments：5000\n"
     ]
    }
   ],
   "source": [
    "df = get_balance_corpus(10000, positive, negative)"
   ]
  },
  {
   "cell_type": "code",
   "execution_count": 6,
   "metadata": {},
   "outputs": [
    {
     "data": {
      "text/html": [
       "<div>\n",
       "<style scoped>\n",
       "    .dataframe tbody tr th:only-of-type {\n",
       "        vertical-align: middle;\n",
       "    }\n",
       "\n",
       "    .dataframe tbody tr th {\n",
       "        vertical-align: top;\n",
       "    }\n",
       "\n",
       "    .dataframe thead th {\n",
       "        text-align: right;\n",
       "    }\n",
       "</style>\n",
       "<table border=\"1\" class=\"dataframe\">\n",
       "  <thead>\n",
       "    <tr style=\"text-align: right;\">\n",
       "      <th></th>\n",
       "      <th>label</th>\n",
       "      <th>review</th>\n",
       "    </tr>\n",
       "  </thead>\n",
       "  <tbody>\n",
       "    <tr>\n",
       "      <th>9100</th>\n",
       "      <td>0</td>\n",
       "      <td>订了一份牛肉水饺，不知道是送错了，还是什么原因，一点牛肉味都没有，跟猪肉大葱一样味，26元，...</td>\n",
       "    </tr>\n",
       "    <tr>\n",
       "      <th>9835</th>\n",
       "      <td>0</td>\n",
       "      <td>芝士没有看到芝士……实在太慢了，不打电话一直催，根本不取餐，一个半小时都过去了。我等了这么久...</td>\n",
       "    </tr>\n",
       "    <tr>\n",
       "      <th>131</th>\n",
       "      <td>1</td>\n",
       "      <td>大风天,不容易,非常好</td>\n",
       "    </tr>\n",
       "    <tr>\n",
       "      <th>1381</th>\n",
       "      <td>1</td>\n",
       "      <td>一如既往，好！非常满意！谢谢商家哦！</td>\n",
       "    </tr>\n",
       "    <tr>\n",
       "      <th>7063</th>\n",
       "      <td>0</td>\n",
       "      <td>不知道为什么晚了三十分钟,后定的东西都到了和合谷还没到,已经饿到胃疼了,菜还可以,到的时候也...</td>\n",
       "    </tr>\n",
       "  </tbody>\n",
       "</table>\n",
       "</div>"
      ],
      "text/plain": [
       "      label                                             review\n",
       "9100      0  订了一份牛肉水饺，不知道是送错了，还是什么原因，一点牛肉味都没有，跟猪肉大葱一样味，26元，...\n",
       "9835      0  芝士没有看到芝士……实在太慢了，不打电话一直催，根本不取餐，一个半小时都过去了。我等了这么久...\n",
       "131       1                                        大风天,不容易,非常好\n",
       "1381      1                                 一如既往，好！非常满意！谢谢商家哦！\n",
       "7063      0  不知道为什么晚了三十分钟,后定的东西都到了和合谷还没到,已经饿到胃疼了,菜还可以,到的时候也..."
      ]
     },
     "execution_count": 6,
     "metadata": {},
     "output_type": "execute_result"
    }
   ],
   "source": [
    "df.sample(5)"
   ]
  },
  {
   "cell_type": "markdown",
   "metadata": {},
   "source": [
    "--------------------------------------------------------"
   ]
  },
  {
   "cell_type": "markdown",
   "metadata": {},
   "source": [
    "## 3. Text Processing with Modules"
   ]
  },
  {
   "cell_type": "markdown",
   "metadata": {},
   "source": [
    "### **1. jieba**"
   ]
  },
  {
   "cell_type": "code",
   "execution_count": 7,
   "metadata": {},
   "outputs": [],
   "source": [
    "# pip install jieba --upgraade\n",
    "import jieba"
   ]
  },
  {
   "cell_type": "code",
   "execution_count": 8,
   "metadata": {},
   "outputs": [
    {
     "name": "stderr",
     "output_type": "stream",
     "text": [
      "Building prefix dict from the default dictionary ...\n",
      "Loading model from cache C:\\Users\\S0048300\\AppData\\Local\\Temp\\jieba.cache\n",
      "Loading model cost 0.766 seconds.\n",
      "Prefix dict has been built successfully.\n"
     ]
    },
    {
     "data": {
      "text/html": [
       "<div>\n",
       "<style scoped>\n",
       "    .dataframe tbody tr th:only-of-type {\n",
       "        vertical-align: middle;\n",
       "    }\n",
       "\n",
       "    .dataframe tbody tr th {\n",
       "        vertical-align: top;\n",
       "    }\n",
       "\n",
       "    .dataframe thead th {\n",
       "        text-align: right;\n",
       "    }\n",
       "</style>\n",
       "<table border=\"1\" class=\"dataframe\">\n",
       "  <thead>\n",
       "    <tr style=\"text-align: right;\">\n",
       "      <th></th>\n",
       "      <th>label</th>\n",
       "      <th>review</th>\n",
       "      <th>review_seg</th>\n",
       "      <th>review_seg_key</th>\n",
       "    </tr>\n",
       "  </thead>\n",
       "  <tbody>\n",
       "    <tr>\n",
       "      <th>1536</th>\n",
       "      <td>1</td>\n",
       "      <td>大份的超级大，一个人吃不了。。</td>\n",
       "      <td>[大份, 的, 超级, 大, ，, 一个, 人, 吃, 不了, 。, 。]</td>\n",
       "      <td>[大份, 超级, 大, 人, 吃, 不了]</td>\n",
       "    </tr>\n",
       "    <tr>\n",
       "      <th>2626</th>\n",
       "      <td>1</td>\n",
       "      <td>非常的正宗，就是羊杂汤太咸啦</td>\n",
       "      <td>[非常, 的, 正宗, ，, 就是, 羊杂, 汤太咸, 啦]</td>\n",
       "      <td>[非常, 正宗, 羊杂, 汤太咸]</td>\n",
       "    </tr>\n",
       "    <tr>\n",
       "      <th>1530</th>\n",
       "      <td>1</td>\n",
       "      <td>好吃，棒棒的</td>\n",
       "      <td>[好吃, ，, 棒棒, 的]</td>\n",
       "      <td>[好吃, 棒棒]</td>\n",
       "    </tr>\n",
       "    <tr>\n",
       "      <th>1824</th>\n",
       "      <td>1</td>\n",
       "      <td>价格合适，味道鲜美。我们公司每天订他们家饭</td>\n",
       "      <td>[价格, 合适, ，, 味道鲜美, 。, 我们, 公司, 每天, 订, 他们, 家饭]</td>\n",
       "      <td>[价格, 合适, 味道鲜美, 公司, 每天, 订, 家饭]</td>\n",
       "    </tr>\n",
       "    <tr>\n",
       "      <th>1580</th>\n",
       "      <td>1</td>\n",
       "      <td>好吃,送的很快</td>\n",
       "      <td>[好吃, ,, 送, 的, 很快]</td>\n",
       "      <td>[好吃, 送, 很快]</td>\n",
       "    </tr>\n",
       "  </tbody>\n",
       "</table>\n",
       "</div>"
      ],
      "text/plain": [
       "      label                 review  \\\n",
       "1536      1        大份的超级大，一个人吃不了。。   \n",
       "2626      1         非常的正宗，就是羊杂汤太咸啦   \n",
       "1530      1                 好吃，棒棒的   \n",
       "1824      1  价格合适，味道鲜美。我们公司每天订他们家饭   \n",
       "1580      1                好吃,送的很快   \n",
       "\n",
       "                                       review_seg  \\\n",
       "1536        [大份, 的, 超级, 大, ，, 一个, 人, 吃, 不了, 。, 。]   \n",
       "2626               [非常, 的, 正宗, ，, 就是, 羊杂, 汤太咸, 啦]   \n",
       "1530                               [好吃, ，, 棒棒, 的]   \n",
       "1824  [价格, 合适, ，, 味道鲜美, 。, 我们, 公司, 每天, 订, 他们, 家饭]   \n",
       "1580                            [好吃, ,, 送, 的, 很快]   \n",
       "\n",
       "                     review_seg_key  \n",
       "1536          [大份, 超级, 大, 人, 吃, 不了]  \n",
       "2626              [非常, 正宗, 羊杂, 汤太咸]  \n",
       "1530                       [好吃, 棒棒]  \n",
       "1824  [价格, 合适, 味道鲜美, 公司, 每天, 订, 家饭]  \n",
       "1580                    [好吃, 送, 很快]  "
      ]
     },
     "execution_count": 8,
     "metadata": {},
     "output_type": "execute_result"
    }
   ],
   "source": [
    "# jieba.load_userdict(r\"dictionary.txt\") # add a customized dictionary if needed\n",
    "\n",
    "df['review_seg'] = df.apply(\n",
    "    lambda row: jieba.lcut(row['review']), \n",
    "    axis = 1\n",
    "    )\n",
    "\n",
    "#-------------------------------------add a customized stop wprds list if needed----------------------------#\n",
    "file_name = 'stop words/hit_stopwords.txt'\n",
    "\n",
    "stop_f = open(file_name,\"r\",encoding='utf-8')\n",
    "stop_words = list()\n",
    "for line in stop_f.readlines():\n",
    "    line = line.strip()\n",
    "    if not len(line):\n",
    "        continue\n",
    "\n",
    "    stop_words.append(line)\n",
    "\n",
    "def filter_key_word(seg_list):\n",
    "    outstr = []\n",
    "    for word in seg_list:\n",
    "            if word not in stop_words:\n",
    "                outstr.append(word)\n",
    "    return outstr\n",
    "\n",
    "df['review_seg_key'] = df.apply(\n",
    "    lambda row: filter_key_word(row['review_seg']), \n",
    "    axis = 1\n",
    "    ) \n",
    "\n",
    "df.head(5)"
   ]
  },
  {
   "cell_type": "code",
   "execution_count": 12,
   "metadata": {},
   "outputs": [
    {
     "name": "stdout",
     "output_type": "stream",
     "text": [
      "VOCAB_SIZE: 8503\n"
     ]
    }
   ],
   "source": [
    "sentences = df['review_seg_key'].values\n",
    "\n",
    "tokenizer = Tokenizer()\n",
    "tokenizer.fit_on_texts(sentences)\n",
    "\n",
    "VOCAB_SIZE = len(tokenizer.word_index) + 1\n",
    "\n",
    "print('VOCAB_SIZE: ' + str(VOCAB_SIZE))"
   ]
  },
  {
   "cell_type": "markdown",
   "metadata": {},
   "source": [
    "### **2. pkuseg**"
   ]
  },
  {
   "cell_type": "code",
   "execution_count": null,
   "metadata": {},
   "outputs": [],
   "source": []
  }
 ],
 "metadata": {
  "kernelspec": {
   "display_name": "new",
   "language": "python",
   "name": "new"
  },
  "language_info": {
   "codemirror_mode": {
    "name": "ipython",
    "version": 3
   },
   "file_extension": ".py",
   "mimetype": "text/x-python",
   "name": "python",
   "nbconvert_exporter": "python",
   "pygments_lexer": "ipython3",
   "version": "3.7.6"
  }
 },
 "nbformat": 4,
 "nbformat_minor": 4
}
