{
 "cells": [
  {
   "cell_type": "markdown",
   "metadata": {},
   "source": [
    "## 0. Introduction\n",
    "   * **Structure:**\n",
    "       + Data Loading\n",
    "       + Balanced Corpus\n",
    "       + Text Processing with Modules\n",
    "           - Jieba\n",
    "           - pkuseg\n",
    "           - THULAC\n",
    "       \n",
    "       \n",
    "   * **Data Souce:**\n",
    "       A Food Delivery Comments Dataset from an Anonymous Author."
   ]
  },
  {
   "cell_type": "markdown",
   "metadata": {},
   "source": [
    "## 1. Data Loading"
   ]
  },
  {
   "cell_type": "code",
   "execution_count": 1,
   "metadata": {},
   "outputs": [
    {
     "name": "stderr",
     "output_type": "stream",
     "text": [
      "Using TensorFlow backend.\n"
     ]
    }
   ],
   "source": [
    "import pandas as pd\n",
    "from keras.preprocessing.text import Tokenizer"
   ]
  },
  {
   "cell_type": "code",
   "execution_count": 2,
   "metadata": {},
   "outputs": [
    {
     "name": "stdout",
     "output_type": "stream",
     "text": [
      "Overall size：11987\n",
      "Positive comments：4000\n",
      "Negative comments：7987\n"
     ]
    }
   ],
   "source": [
    "data = pd.read_csv('data/Food_Delivery.csv')\n",
    "\n",
    "print('Overall size：%d' % data.shape[0])\n",
    "print('Positive comments：%d' % data[data.label==1].shape[0])\n",
    "print('Negative comments：%d' % data[data.label==0].shape[0])"
   ]
  },
  {
   "cell_type": "code",
   "execution_count": 3,
   "metadata": {},
   "outputs": [
    {
     "data": {
      "text/html": [
       "<div>\n",
       "<style scoped>\n",
       "    .dataframe tbody tr th:only-of-type {\n",
       "        vertical-align: middle;\n",
       "    }\n",
       "\n",
       "    .dataframe tbody tr th {\n",
       "        vertical-align: top;\n",
       "    }\n",
       "\n",
       "    .dataframe thead th {\n",
       "        text-align: right;\n",
       "    }\n",
       "</style>\n",
       "<table border=\"1\" class=\"dataframe\">\n",
       "  <thead>\n",
       "    <tr style=\"text-align: right;\">\n",
       "      <th></th>\n",
       "      <th>label</th>\n",
       "      <th>review</th>\n",
       "    </tr>\n",
       "  </thead>\n",
       "  <tbody>\n",
       "    <tr>\n",
       "      <th>6346</th>\n",
       "      <td>0</td>\n",
       "      <td>薯条是软的……不会再买了,拌饭忘放酱了，打电话说给送也没送……自己去超市买了老干妈……,哎</td>\n",
       "    </tr>\n",
       "    <tr>\n",
       "      <th>1503</th>\n",
       "      <td>1</td>\n",
       "      <td>非常美味，下次还会再来！</td>\n",
       "    </tr>\n",
       "    <tr>\n",
       "      <th>6901</th>\n",
       "      <td>0</td>\n",
       "      <td>菜码太小了吧，能不能传图呀,32元的菜，半盒洋葱，肉呢！是店里顾客吃剩下的吧！</td>\n",
       "    </tr>\n",
       "    <tr>\n",
       "      <th>78</th>\n",
       "      <td>1</td>\n",
       "      <td>最近一直订这家的外卖，相当不错，够味儿，快递小哥也是棒棒的！</td>\n",
       "    </tr>\n",
       "    <tr>\n",
       "      <th>10661</th>\n",
       "      <td>0</td>\n",
       "      <td>这次虾饺里面居然全是淀粉都没有虾！</td>\n",
       "    </tr>\n",
       "  </tbody>\n",
       "</table>\n",
       "</div>"
      ],
      "text/plain": [
       "       label                                         review\n",
       "6346       0  薯条是软的……不会再买了,拌饭忘放酱了，打电话说给送也没送……自己去超市买了老干妈……,哎\n",
       "1503       1                                   非常美味，下次还会再来！\n",
       "6901       0        菜码太小了吧，能不能传图呀,32元的菜，半盒洋葱，肉呢！是店里顾客吃剩下的吧！\n",
       "78         1                 最近一直订这家的外卖，相当不错，够味儿，快递小哥也是棒棒的！\n",
       "10661      0                              这次虾饺里面居然全是淀粉都没有虾！"
      ]
     },
     "execution_count": 3,
     "metadata": {},
     "output_type": "execute_result"
    }
   ],
   "source": [
    "data.sample(5)"
   ]
  },
  {
   "cell_type": "markdown",
   "metadata": {},
   "source": [
    "## 2. Balanced Corpus"
   ]
  },
  {
   "cell_type": "code",
   "execution_count": 4,
   "metadata": {},
   "outputs": [],
   "source": [
    "positive = data[data.label==1]\n",
    "negative = data[data.label==0]\n",
    "\n",
    "def get_balance_corpus(corpus_size, corpus_pos, corpus_neg):\n",
    "    sample_size = corpus_size // 2\n",
    "    pd_corpus_balance = pd.concat([corpus_pos.sample(sample_size, replace=corpus_pos.shape[0]<sample_size), \\\n",
    "                                   corpus_neg.sample(sample_size, replace=corpus_neg.shape[0]<sample_size)])\n",
    "    \n",
    "    print('Overall size：%d' % pd_corpus_balance.shape[0])\n",
    "    print('Positive comments：%d' % pd_corpus_balance[pd_corpus_balance.label==1].shape[0])\n",
    "    print('Negative comments：%d' % pd_corpus_balance[pd_corpus_balance.label==0].shape[0])    \n",
    "    \n",
    "    return pd_corpus_balance"
   ]
  },
  {
   "cell_type": "code",
   "execution_count": 5,
   "metadata": {},
   "outputs": [
    {
     "name": "stdout",
     "output_type": "stream",
     "text": [
      "Overall size：10000\n",
      "Positive comments：5000\n",
      "Negative comments：5000\n"
     ]
    }
   ],
   "source": [
    "df = get_balance_corpus(10000, positive, negative)"
   ]
  },
  {
   "cell_type": "code",
   "execution_count": 6,
   "metadata": {},
   "outputs": [
    {
     "data": {
      "text/html": [
       "<div>\n",
       "<style scoped>\n",
       "    .dataframe tbody tr th:only-of-type {\n",
       "        vertical-align: middle;\n",
       "    }\n",
       "\n",
       "    .dataframe tbody tr th {\n",
       "        vertical-align: top;\n",
       "    }\n",
       "\n",
       "    .dataframe thead th {\n",
       "        text-align: right;\n",
       "    }\n",
       "</style>\n",
       "<table border=\"1\" class=\"dataframe\">\n",
       "  <thead>\n",
       "    <tr style=\"text-align: right;\">\n",
       "      <th></th>\n",
       "      <th>label</th>\n",
       "      <th>review</th>\n",
       "    </tr>\n",
       "  </thead>\n",
       "  <tbody>\n",
       "    <tr>\n",
       "      <th>8741</th>\n",
       "      <td>0</td>\n",
       "      <td>打死卖糖的油好大又甜不唧唧的难吃死</td>\n",
       "    </tr>\n",
       "    <tr>\n",
       "      <th>2532</th>\n",
       "      <td>1</td>\n",
       "      <td>快递小哥服务好，速度快</td>\n",
       "    </tr>\n",
       "    <tr>\n",
       "      <th>11462</th>\n",
       "      <td>0</td>\n",
       "      <td>这家的送餐超慢，没有很好的耐性就不要定他家了</td>\n",
       "    </tr>\n",
       "    <tr>\n",
       "      <th>8923</th>\n",
       "      <td>0</td>\n",
       "      <td>配送很快，味道一般</td>\n",
       "    </tr>\n",
       "    <tr>\n",
       "      <th>121</th>\n",
       "      <td>1</td>\n",
       "      <td>骑士很好，赞一个，很礼貌，辛苦了！</td>\n",
       "    </tr>\n",
       "  </tbody>\n",
       "</table>\n",
       "</div>"
      ],
      "text/plain": [
       "       label                  review\n",
       "8741       0       打死卖糖的油好大又甜不唧唧的难吃死\n",
       "2532       1             快递小哥服务好，速度快\n",
       "11462      0  这家的送餐超慢，没有很好的耐性就不要定他家了\n",
       "8923       0               配送很快，味道一般\n",
       "121        1       骑士很好，赞一个，很礼貌，辛苦了！"
      ]
     },
     "execution_count": 6,
     "metadata": {},
     "output_type": "execute_result"
    }
   ],
   "source": [
    "df.sample(5)"
   ]
  },
  {
   "cell_type": "markdown",
   "metadata": {},
   "source": [
    "--------------------------------------------------------"
   ]
  },
  {
   "cell_type": "markdown",
   "metadata": {},
   "source": [
    "## 3. Text Processing with Modules"
   ]
  },
  {
   "cell_type": "markdown",
   "metadata": {},
   "source": [
    "### **1. jieba**"
   ]
  },
  {
   "cell_type": "code",
   "execution_count": 7,
   "metadata": {},
   "outputs": [],
   "source": [
    "# pip install jieba --upgrade\n",
    "import jieba"
   ]
  },
  {
   "cell_type": "code",
   "execution_count": 8,
   "metadata": {},
   "outputs": [
    {
     "name": "stderr",
     "output_type": "stream",
     "text": [
      "Building prefix dict from the default dictionary ...\n",
      "Loading model from cache C:\\Users\\S0048300\\AppData\\Local\\Temp\\jieba.cache\n",
      "Loading model cost 0.782 seconds.\n",
      "Prefix dict has been built successfully.\n"
     ]
    },
    {
     "data": {
      "text/html": [
       "<div>\n",
       "<style scoped>\n",
       "    .dataframe tbody tr th:only-of-type {\n",
       "        vertical-align: middle;\n",
       "    }\n",
       "\n",
       "    .dataframe tbody tr th {\n",
       "        vertical-align: top;\n",
       "    }\n",
       "\n",
       "    .dataframe thead th {\n",
       "        text-align: right;\n",
       "    }\n",
       "</style>\n",
       "<table border=\"1\" class=\"dataframe\">\n",
       "  <thead>\n",
       "    <tr style=\"text-align: right;\">\n",
       "      <th></th>\n",
       "      <th>label</th>\n",
       "      <th>review</th>\n",
       "      <th>review_seg</th>\n",
       "      <th>review_seg_key</th>\n",
       "    </tr>\n",
       "  </thead>\n",
       "  <tbody>\n",
       "    <tr>\n",
       "      <th>109</th>\n",
       "      <td>1</td>\n",
       "      <td>态度非常好，速度快，味道好极了!</td>\n",
       "      <td>[态度, 非常, 好, ，, 速度, 快, ，, 味道, 好极了, !]</td>\n",
       "      <td>[态度, 非常, 好, 速度, 快, 味道, 好极了, !]</td>\n",
       "    </tr>\n",
       "    <tr>\n",
       "      <th>592</th>\n",
       "      <td>1</td>\n",
       "      <td>态度好，菜味佳</td>\n",
       "      <td>[态度, 好, ，, 菜味佳]</td>\n",
       "      <td>[态度, 好, 菜味佳]</td>\n",
       "    </tr>\n",
       "    <tr>\n",
       "      <th>1023</th>\n",
       "      <td>1</td>\n",
       "      <td>有点油腻～其他很好</td>\n",
       "      <td>[有点, 油腻, ～, 其他, 很, 好]</td>\n",
       "      <td>[有点, 油腻, 很, 好]</td>\n",
       "    </tr>\n",
       "    <tr>\n",
       "      <th>3158</th>\n",
       "      <td>1</td>\n",
       "      <td>黄太极里的巨无霸。。</td>\n",
       "      <td>[黄, 太极, 里, 的, 巨无霸, 。, 。]</td>\n",
       "      <td>[黄, 太极, 里, 巨无霸]</td>\n",
       "    </tr>\n",
       "    <tr>\n",
       "      <th>3308</th>\n",
       "      <td>1</td>\n",
       "      <td>第一次尝试，味道还不错</td>\n",
       "      <td>[第一次, 尝试, ，, 味道, 还, 不错]</td>\n",
       "      <td>[第一次, 尝试, 味道, 还, 不错]</td>\n",
       "    </tr>\n",
       "  </tbody>\n",
       "</table>\n",
       "</div>"
      ],
      "text/plain": [
       "      label            review                            review_seg  \\\n",
       "109       1  态度非常好，速度快，味道好极了!  [态度, 非常, 好, ，, 速度, 快, ，, 味道, 好极了, !]   \n",
       "592       1           态度好，菜味佳                       [态度, 好, ，, 菜味佳]   \n",
       "1023      1         有点油腻～其他很好                 [有点, 油腻, ～, 其他, 很, 好]   \n",
       "3158      1        黄太极里的巨无霸。。              [黄, 太极, 里, 的, 巨无霸, 。, 。]   \n",
       "3308      1       第一次尝试，味道还不错               [第一次, 尝试, ，, 味道, 还, 不错]   \n",
       "\n",
       "                      review_seg_key  \n",
       "109   [态度, 非常, 好, 速度, 快, 味道, 好极了, !]  \n",
       "592                     [态度, 好, 菜味佳]  \n",
       "1023                  [有点, 油腻, 很, 好]  \n",
       "3158                 [黄, 太极, 里, 巨无霸]  \n",
       "3308            [第一次, 尝试, 味道, 还, 不错]  "
      ]
     },
     "execution_count": 8,
     "metadata": {},
     "output_type": "execute_result"
    }
   ],
   "source": [
    "# jieba.load_userdict(r\"dictionary.txt\") # add a customized dictionary if needed\n",
    "\n",
    "df['review_seg'] = df.apply(\n",
    "    lambda row: jieba.lcut(row['review']), \n",
    "    axis = 1\n",
    "    )\n",
    "\n",
    "#-------------------------------------add a customized stop wprds list if needed----------------------------#\n",
    "file_name = 'stop words/hit_stopwords.txt'\n",
    "\n",
    "stop_f = open(file_name,\"r\",encoding='utf-8')\n",
    "stop_words = list()\n",
    "for line in stop_f.readlines():\n",
    "    line = line.strip()\n",
    "    if not len(line):\n",
    "        continue\n",
    "\n",
    "    stop_words.append(line)\n",
    "\n",
    "def filter_key_word(seg_list):\n",
    "    outstr = []\n",
    "    for word in seg_list:\n",
    "            if word not in stop_words:\n",
    "                outstr.append(word)\n",
    "    return outstr\n",
    "\n",
    "df['review_seg_key'] = df.apply(\n",
    "    lambda row: filter_key_word(row['review_seg']), \n",
    "    axis = 1\n",
    "    ) \n",
    "\n",
    "df.head(5)"
   ]
  },
  {
   "cell_type": "code",
   "execution_count": 9,
   "metadata": {},
   "outputs": [
    {
     "name": "stdout",
     "output_type": "stream",
     "text": [
      "VOCAB_SIZE: 8315\n"
     ]
    }
   ],
   "source": [
    "sentences = df['review_seg_key'].values\n",
    "\n",
    "tokenizer = Tokenizer()\n",
    "tokenizer.fit_on_texts(sentences)\n",
    "\n",
    "VOCAB_SIZE = len(tokenizer.word_index) + 1\n",
    "\n",
    "print('VOCAB_SIZE: ' + str(VOCAB_SIZE))"
   ]
  },
  {
   "cell_type": "markdown",
   "metadata": {},
   "source": [
    "### **2. pkuseg**"
   ]
  },
  {
   "cell_type": "code",
   "execution_count": 10,
   "metadata": {},
   "outputs": [],
   "source": [
    "# pip install pkuseg --upgrade\n",
    "import pkuseg"
   ]
  },
  {
   "cell_type": "code",
   "execution_count": 11,
   "metadata": {},
   "outputs": [
    {
     "data": {
      "text/html": [
       "<div>\n",
       "<style scoped>\n",
       "    .dataframe tbody tr th:only-of-type {\n",
       "        vertical-align: middle;\n",
       "    }\n",
       "\n",
       "    .dataframe tbody tr th {\n",
       "        vertical-align: top;\n",
       "    }\n",
       "\n",
       "    .dataframe thead th {\n",
       "        text-align: right;\n",
       "    }\n",
       "</style>\n",
       "<table border=\"1\" class=\"dataframe\">\n",
       "  <thead>\n",
       "    <tr style=\"text-align: right;\">\n",
       "      <th></th>\n",
       "      <th>label</th>\n",
       "      <th>review</th>\n",
       "      <th>review_seg</th>\n",
       "      <th>review_seg_key</th>\n",
       "    </tr>\n",
       "  </thead>\n",
       "  <tbody>\n",
       "    <tr>\n",
       "      <th>0</th>\n",
       "      <td>1</td>\n",
       "      <td>很快，好吃，味道足，量大</td>\n",
       "      <td>[(很快, d), (，, w), (好吃, a), (，, w), (味道, n), (足...</td>\n",
       "      <td>[很快, 好吃, 味道, 足, 量, 大]</td>\n",
       "    </tr>\n",
       "    <tr>\n",
       "      <th>1</th>\n",
       "      <td>1</td>\n",
       "      <td>没有送水没有送水没有送水</td>\n",
       "      <td>[(没有, d), (送水, v), (没有, v), (送水, n), (没有, d), ...</td>\n",
       "      <td>[没有, 送水, 没有, 送水, 没有, 送水]</td>\n",
       "    </tr>\n",
       "    <tr>\n",
       "      <th>2</th>\n",
       "      <td>1</td>\n",
       "      <td>非常快，态度好。</td>\n",
       "      <td>[(非常, d), (快, a), (，, w), (态度, n), (好, a), (。,...</td>\n",
       "      <td>[非常, 快, 态度, 好]</td>\n",
       "    </tr>\n",
       "    <tr>\n",
       "      <th>3</th>\n",
       "      <td>1</td>\n",
       "      <td>方便，快捷，味道可口，快递给力</td>\n",
       "      <td>[(方便, a), (，, w), (快捷, z), (，, w), (味道, n), (可...</td>\n",
       "      <td>[方便, 快捷, 味道, 可口, 快递, 给力]</td>\n",
       "    </tr>\n",
       "    <tr>\n",
       "      <th>4</th>\n",
       "      <td>1</td>\n",
       "      <td>菜味道很棒！送餐很及时！</td>\n",
       "      <td>[(菜, n), (味道, n), (很, d), (棒, a), (！, w), (送, ...</td>\n",
       "      <td>[菜, 味道, 很, 棒, 送, 餐, 很, 及时]</td>\n",
       "    </tr>\n",
       "  </tbody>\n",
       "</table>\n",
       "</div>"
      ],
      "text/plain": [
       "   label           review                                         review_seg  \\\n",
       "0      1     很快，好吃，味道足，量大  [(很快, d), (，, w), (好吃, a), (，, w), (味道, n), (足...   \n",
       "1      1     没有送水没有送水没有送水  [(没有, d), (送水, v), (没有, v), (送水, n), (没有, d), ...   \n",
       "2      1         非常快，态度好。  [(非常, d), (快, a), (，, w), (态度, n), (好, a), (。,...   \n",
       "3      1  方便，快捷，味道可口，快递给力  [(方便, a), (，, w), (快捷, z), (，, w), (味道, n), (可...   \n",
       "4      1     菜味道很棒！送餐很及时！  [(菜, n), (味道, n), (很, d), (棒, a), (！, w), (送, ...   \n",
       "\n",
       "               review_seg_key  \n",
       "0       [很快, 好吃, 味道, 足, 量, 大]  \n",
       "1    [没有, 送水, 没有, 送水, 没有, 送水]  \n",
       "2              [非常, 快, 态度, 好]  \n",
       "3    [方便, 快捷, 味道, 可口, 快递, 给力]  \n",
       "4  [菜, 味道, 很, 棒, 送, 餐, 很, 及时]  "
      ]
     },
     "execution_count": 11,
     "metadata": {},
     "output_type": "execute_result"
    }
   ],
   "source": [
    "df1 = data.copy()\n",
    "\n",
    "# file_name = 'dictionary.txt' # add a customized dictionary if needed\n",
    "# add a customized stop wprds list if needed\n",
    "# the structure of the dictionary should contain stop words in the first column and a tag in the second column. E.g. 'trash_words'\n",
    "\n",
    "seg = pkuseg.pkuseg(\n",
    "    model_name = 'default',\n",
    "    #user_dict = file_name,\n",
    "    postag = True)\n",
    "\n",
    "df1['review_seg'] = df1.apply(\n",
    "    lambda row: seg.cut(row['review']), \n",
    "    axis = 1\n",
    "    )\n",
    "\n",
    "def filter_key_word(word_ls):\n",
    "    \n",
    "    x = list(filter(\n",
    "        lambda word: word[1] not in \n",
    "        ['w', 'm'], word_ls))   # add 'trash_words' in the list\n",
    "    y = [i[0] for i in x]\n",
    "    \n",
    "    return y\n",
    "\n",
    "df1['review_seg_key'] = df1.apply(\n",
    "    lambda row: filter_key_word(row['review_seg']), \n",
    "    axis = 1\n",
    "    )\n",
    "\n",
    "df1.head(5)"
   ]
  },
  {
   "cell_type": "code",
   "execution_count": 12,
   "metadata": {},
   "outputs": [
    {
     "name": "stdout",
     "output_type": "stream",
     "text": [
      "VOCAB_SIZE: 10118\n"
     ]
    }
   ],
   "source": [
    "sentences = df1['review_seg_key'].values\n",
    "\n",
    "tokenizer = Tokenizer()\n",
    "tokenizer.fit_on_texts(sentences)\n",
    "\n",
    "VOCAB_SIZE = len(tokenizer.word_index) + 1\n",
    "\n",
    "print('VOCAB_SIZE: ' + str(VOCAB_SIZE))"
   ]
  },
  {
   "cell_type": "markdown",
   "metadata": {},
   "source": [
    "### **3. thulac**"
   ]
  },
  {
   "cell_type": "code",
   "execution_count": 13,
   "metadata": {},
   "outputs": [],
   "source": [
    "# pip install thulac --upgrade\n",
    "import thulac"
   ]
  },
  {
   "cell_type": "code",
   "execution_count": 14,
   "metadata": {},
   "outputs": [
    {
     "name": "stdout",
     "output_type": "stream",
     "text": [
      "Model loaded succeed\n"
     ]
    },
    {
     "data": {
      "text/html": [
       "<div>\n",
       "<style scoped>\n",
       "    .dataframe tbody tr th:only-of-type {\n",
       "        vertical-align: middle;\n",
       "    }\n",
       "\n",
       "    .dataframe tbody tr th {\n",
       "        vertical-align: top;\n",
       "    }\n",
       "\n",
       "    .dataframe thead th {\n",
       "        text-align: right;\n",
       "    }\n",
       "</style>\n",
       "<table border=\"1\" class=\"dataframe\">\n",
       "  <thead>\n",
       "    <tr style=\"text-align: right;\">\n",
       "      <th></th>\n",
       "      <th>label</th>\n",
       "      <th>review</th>\n",
       "      <th>review_seg</th>\n",
       "      <th>review_seg_key</th>\n",
       "    </tr>\n",
       "  </thead>\n",
       "  <tbody>\n",
       "    <tr>\n",
       "      <th>0</th>\n",
       "      <td>1</td>\n",
       "      <td>很快，好吃，味道足，量大</td>\n",
       "      <td>[[很快, d], [，, w], [好吃, a], [，, w], [味道, n], [足...</td>\n",
       "      <td>[很快, 好吃, 味道, 足, 量, 大]</td>\n",
       "    </tr>\n",
       "    <tr>\n",
       "      <th>1</th>\n",
       "      <td>1</td>\n",
       "      <td>没有送水没有送水没有送水</td>\n",
       "      <td>[[没有, d], [送, v], [水, n], [没有, d], [送, v], [水,...</td>\n",
       "      <td>[没有, 送, 水, 没有, 送, 水, 没有, 送, 水]</td>\n",
       "    </tr>\n",
       "    <tr>\n",
       "      <th>2</th>\n",
       "      <td>1</td>\n",
       "      <td>非常快，态度好。</td>\n",
       "      <td>[[非常, d], [快, a], [，, w], [态度, n], [好, a], [。,...</td>\n",
       "      <td>[非常, 快, 态度, 好]</td>\n",
       "    </tr>\n",
       "    <tr>\n",
       "      <th>3</th>\n",
       "      <td>1</td>\n",
       "      <td>方便，快捷，味道可口，快递给力</td>\n",
       "      <td>[[方便, a], [，, w], [快捷, a], [，, w], [味道, n], [可...</td>\n",
       "      <td>[方便, 快捷, 味道, 可口, 快递, 给, 力]</td>\n",
       "    </tr>\n",
       "    <tr>\n",
       "      <th>4</th>\n",
       "      <td>1</td>\n",
       "      <td>菜味道很棒！送餐很及时！</td>\n",
       "      <td>[[菜味道, n], [很, d], [棒, a], [！, w], [送, v], [餐,...</td>\n",
       "      <td>[菜味道, 很, 棒, 送, 餐, 很, 及时]</td>\n",
       "    </tr>\n",
       "  </tbody>\n",
       "</table>\n",
       "</div>"
      ],
      "text/plain": [
       "   label           review                                         review_seg  \\\n",
       "0      1     很快，好吃，味道足，量大  [[很快, d], [，, w], [好吃, a], [，, w], [味道, n], [足...   \n",
       "1      1     没有送水没有送水没有送水  [[没有, d], [送, v], [水, n], [没有, d], [送, v], [水,...   \n",
       "2      1         非常快，态度好。  [[非常, d], [快, a], [，, w], [态度, n], [好, a], [。,...   \n",
       "3      1  方便，快捷，味道可口，快递给力  [[方便, a], [，, w], [快捷, a], [，, w], [味道, n], [可...   \n",
       "4      1     菜味道很棒！送餐很及时！  [[菜味道, n], [很, d], [棒, a], [！, w], [送, v], [餐,...   \n",
       "\n",
       "                   review_seg_key  \n",
       "0           [很快, 好吃, 味道, 足, 量, 大]  \n",
       "1  [没有, 送, 水, 没有, 送, 水, 没有, 送, 水]  \n",
       "2                  [非常, 快, 态度, 好]  \n",
       "3      [方便, 快捷, 味道, 可口, 快递, 给, 力]  \n",
       "4        [菜味道, 很, 棒, 送, 餐, 很, 及时]  "
      ]
     },
     "execution_count": 14,
     "metadata": {},
     "output_type": "execute_result"
    }
   ],
   "source": [
    "df2 = data.copy()\n",
    "\n",
    "thu1 = thulac.thulac()\n",
    "\n",
    "df2['review_seg'] = df2.apply(\n",
    "    lambda row: thu1.cut(row['review']), \n",
    "    axis = 1\n",
    "    )\n",
    "\n",
    "def filter_key_word(word_ls):\n",
    "    \n",
    "    x = list(filter(\n",
    "        lambda word: word[1] not in \n",
    "        ['w', 'm'], word_ls))   # add 'trash_words' in the list\n",
    "    y = [i[0] for i in x]\n",
    "    \n",
    "    return y\n",
    "\n",
    "df2['review_seg_key'] = df2.apply(\n",
    "    lambda row: filter_key_word(row['review_seg']), \n",
    "    axis = 1\n",
    "    )\n",
    "\n",
    "df2.head(5)"
   ]
  },
  {
   "cell_type": "code",
   "execution_count": 15,
   "metadata": {},
   "outputs": [
    {
     "name": "stdout",
     "output_type": "stream",
     "text": [
      "VOCAB_SIZE: 9049\n"
     ]
    }
   ],
   "source": [
    "sentences = df2['review_seg_key'].values\n",
    "\n",
    "tokenizer = Tokenizer()\n",
    "tokenizer.fit_on_texts(sentences)\n",
    "\n",
    "VOCAB_SIZE = len(tokenizer.word_index) + 1\n",
    "\n",
    "print('VOCAB_SIZE: ' + str(VOCAB_SIZE))"
   ]
  },
  {
   "cell_type": "code",
   "execution_count": null,
   "metadata": {},
   "outputs": [],
   "source": []
  }
 ],
 "metadata": {
  "kernelspec": {
   "display_name": "new",
   "language": "python",
   "name": "new"
  },
  "language_info": {
   "codemirror_mode": {
    "name": "ipython",
    "version": 3
   },
   "file_extension": ".py",
   "mimetype": "text/x-python",
   "name": "python",
   "nbconvert_exporter": "python",
   "pygments_lexer": "ipython3",
   "version": "3.7.6"
  }
 },
 "nbformat": 4,
 "nbformat_minor": 4
}
