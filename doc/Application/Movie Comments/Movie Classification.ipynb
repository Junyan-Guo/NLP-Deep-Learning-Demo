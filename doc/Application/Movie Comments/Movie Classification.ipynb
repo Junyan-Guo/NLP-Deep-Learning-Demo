{
 "cells": [
  {
   "cell_type": "markdown",
   "metadata": {},
   "source": [
    "## Load IMDB by module"
   ]
  },
  {
   "cell_type": "code",
   "execution_count": 9,
   "metadata": {},
   "outputs": [],
   "source": [
    "# import numpy as np\n",
    "# import tensorflow as tf\n",
    "# #!pip install -q tensorflow-hub\n",
    "# #!pip install -q tfds-nightly\n",
    "# import tensorflow_hub as hub\n",
    "# import tensorflow_datasets as tfds\n",
    "# from tensorflow.keras.datasets import imdb"
   ]
  },
  {
   "cell_type": "code",
   "execution_count": 10,
   "metadata": {},
   "outputs": [
    {
     "name": "stdout",
     "output_type": "stream",
     "text": [
      "Downloading data from https://storage.googleapis.com/tensorflow/tf-keras-datasets/imdb.npz\n",
      "17465344/17464789 [==============================] - 21s 1us/step\n",
      "(25000,)\n",
      "(25000,)\n"
     ]
    }
   ],
   "source": [
    "# (x_train, y_train), (x_test, y_test) = imdb.load_data()\n",
    "# print(x_train.shape)\n",
    "# print(x_test.shape)"
   ]
  },
  {
   "cell_type": "markdown",
   "metadata": {},
   "source": [
    "## IMDB by Pandas"
   ]
  },
  {
   "cell_type": "code",
   "execution_count": 35,
   "metadata": {},
   "outputs": [],
   "source": [
    "import warnings\n",
    "warnings.filterwarnings('ignore')\n",
    "\n",
    "# Modules for data manipulation\n",
    "import numpy as np\n",
    "import pandas as pd\n",
    "import re\n",
    "\n",
    "# Modules for visualization\n",
    "import matplotlib.pyplot as plt\n",
    "import seaborn as sb\n",
    "\n",
    "# Tools for preprocessing input data\n",
    "from bs4 import BeautifulSoup\n",
    "import nltk\n",
    "from nltk import word_tokenize\n",
    "from nltk.corpus import stopwords\n",
    "from nltk.stem import WordNetLemmatizer\n",
    "\n",
    "# Tools for creating ngrams and vectorizing input data\n",
    "from gensim.models import Word2Vec, Phrases\n",
    "\n",
    "# Tools for building a model\n",
    "from sklearn.model_selection import train_test_split\n",
    "from keras.models import Sequential\n",
    "from keras.layers import Dense, LSTM, Dropout, Bidirectional\n",
    "from keras.layers.embeddings import Embedding\n",
    "from keras.preprocessing.sequence import pad_sequences\n",
    "\n",
    "# Tools for assessing the quality of model prediction\n",
    "from sklearn.metrics import accuracy_score, confusion_matrix\n",
    "\n",
    "import os"
   ]
  },
  {
   "cell_type": "code",
   "execution_count": 43,
   "metadata": {},
   "outputs": [],
   "source": [
    "usecols = ['sentiment','review']\n",
    "train_data = pd.read_csv(\n",
    "    filepath_or_buffer='data/labeledTrainData.tsv',\n",
    "    usecols=usecols, sep='\\t')\n",
    "\n",
    "submission_data = pd.read_csv(\n",
    "    filepath_or_buffer=\"data/testData.tsv\",\n",
    "    sep='\\t')"
   ]
  },
  {
   "cell_type": "code",
   "execution_count": 44,
   "metadata": {},
   "outputs": [],
   "source": [
    "datasets = [train_data, submission_data]\n",
    "titles = ['Train data', 'Unlabeled train data']"
   ]
  },
  {
   "cell_type": "code",
   "execution_count": 26,
   "metadata": {},
   "outputs": [
    {
     "name": "stdout",
     "output_type": "stream",
     "text": [
      "<class 'pandas.core.frame.DataFrame'>\n",
      "RangeIndex: 25000 entries, 0 to 24999\n",
      "Data columns (total 2 columns):\n",
      " #   Column     Non-Null Count  Dtype \n",
      "---  ------     --------------  ----- \n",
      " 0   sentiment  25000 non-null  int64 \n",
      " 1   review     25000 non-null  object\n",
      "dtypes: int64(1), object(1)\n",
      "memory usage: 390.8+ KB\n"
     ]
    }
   ],
   "source": [
    "train_data.info()"
   ]
  },
  {
   "cell_type": "code",
   "execution_count": 27,
   "metadata": {},
   "outputs": [
    {
     "data": {
      "text/html": [
       "<div>\n",
       "<style scoped>\n",
       "    .dataframe tbody tr th:only-of-type {\n",
       "        vertical-align: middle;\n",
       "    }\n",
       "\n",
       "    .dataframe tbody tr th {\n",
       "        vertical-align: top;\n",
       "    }\n",
       "\n",
       "    .dataframe thead th {\n",
       "        text-align: right;\n",
       "    }\n",
       "</style>\n",
       "<table border=\"1\" class=\"dataframe\">\n",
       "  <thead>\n",
       "    <tr style=\"text-align: right;\">\n",
       "      <th></th>\n",
       "      <th>sentiment</th>\n",
       "      <th>review</th>\n",
       "    </tr>\n",
       "  </thead>\n",
       "  <tbody>\n",
       "    <tr>\n",
       "      <th>0</th>\n",
       "      <td>1</td>\n",
       "      <td>With all this stuff going down at the moment w...</td>\n",
       "    </tr>\n",
       "    <tr>\n",
       "      <th>1</th>\n",
       "      <td>1</td>\n",
       "      <td>\\The Classic War of the Worlds\\\" by Timothy Hi...</td>\n",
       "    </tr>\n",
       "    <tr>\n",
       "      <th>2</th>\n",
       "      <td>0</td>\n",
       "      <td>The film starts with a manager (Nicholas Bell)...</td>\n",
       "    </tr>\n",
       "    <tr>\n",
       "      <th>3</th>\n",
       "      <td>0</td>\n",
       "      <td>It must be assumed that those who praised this...</td>\n",
       "    </tr>\n",
       "    <tr>\n",
       "      <th>4</th>\n",
       "      <td>1</td>\n",
       "      <td>Superbly trashy and wondrously unpretentious 8...</td>\n",
       "    </tr>\n",
       "  </tbody>\n",
       "</table>\n",
       "</div>"
      ],
      "text/plain": [
       "   sentiment                                             review\n",
       "0          1  With all this stuff going down at the moment w...\n",
       "1          1  \\The Classic War of the Worlds\\\" by Timothy Hi...\n",
       "2          0  The film starts with a manager (Nicholas Bell)...\n",
       "3          0  It must be assumed that those who praised this...\n",
       "4          1  Superbly trashy and wondrously unpretentious 8..."
      ]
     },
     "execution_count": 27,
     "metadata": {},
     "output_type": "execute_result"
    }
   ],
   "source": [
    "train_data.head()"
   ]
  },
  {
   "cell_type": "code",
   "execution_count": 45,
   "metadata": {},
   "outputs": [
    {
     "name": "stdout",
     "output_type": "stream",
     "text": [
      "Total number of reviews: 50000\n"
     ]
    }
   ],
   "source": [
    "all_reviews = np.array([], dtype=str)\n",
    "for dataset in datasets:\n",
    "    all_reviews = np.concatenate((all_reviews, dataset.review), axis=0)\n",
    "print('Total number of reviews:', len(all_reviews))"
   ]
  },
  {
   "cell_type": "code",
   "execution_count": 29,
   "metadata": {},
   "outputs": [
    {
     "data": {
      "image/png": "[encoded data removed]",
      "text/plain": [
       "<Figure size 432x288 with 1 Axes>"
      ]
     },
     "metadata": {
      "needs_background": "light"
     },
     "output_type": "display_data"
    }
   ],
   "source": [
    "plt.hist(train_data[train_data.sentiment == 1].sentiment,\n",
    "         bins=2, color='green', label='Positive')\n",
    "plt.hist(train_data[train_data.sentiment == 0].sentiment,\n",
    "         bins=2, color='blue', label='Negative')\n",
    "plt.title('Classes distribution in the train data', fontsize=20)\n",
    "plt.xticks([])\n",
    "plt.xlim(-0.5, 2)\n",
    "plt.legend()\n",
    "plt.show()"
   ]
  },
  {
   "cell_type": "code",
   "execution_count": 30,
   "metadata": {},
   "outputs": [],
   "source": [
    "def clean_review(raw_review: str) -> str:\n",
    "    # 1. Remove HTML\n",
    "    review_text = BeautifulSoup(raw_review, \"lxml\").get_text()\n",
    "    # 2. Remove non-letters\n",
    "    letters_only = REPLACE_WITH_SPACE.sub(\" \", review_text)\n",
    "    # 3. Convert to lower case\n",
    "    lowercase_letters = letters_only.lower()\n",
    "    return lowercase_letters\n",
    "\n",
    "\n",
    "def lemmatize(tokens: list) -> list:\n",
    "    # 1. Lemmatize\n",
    "    tokens = list(map(lemmatizer.lemmatize, tokens))\n",
    "    lemmatized_tokens = list(map(lambda x: lemmatizer.lemmatize(x, \"v\"), tokens))\n",
    "    # 2. Remove stop words\n",
    "    meaningful_words = list(filter(lambda x: not x in stop_words, lemmatized_tokens))\n",
    "    return meaningful_words\n",
    "\n",
    "\n",
    "def preprocess(review: str, total: int, show_progress: bool = True) -> list:\n",
    "    if show_progress:\n",
    "        global counter\n",
    "        counter += 1\n",
    "        print('Processing... %6i/%6i'% (counter, total), end='\\r')\n",
    "    # 1. Clean text\n",
    "    review = clean_review(review)\n",
    "    # 2. Split into individual words\n",
    "    tokens = word_tokenize(review)\n",
    "    # 3. Lemmatize\n",
    "    lemmas = lemmatize(tokens)\n",
    "    # 4. Join the words back into one string separated by space,\n",
    "    # and return the result.\n",
    "    return lemmas"
   ]
  },
  {
   "cell_type": "code",
   "execution_count": 46,
   "metadata": {},
   "outputs": [
    {
     "name": "stdout",
     "output_type": "stream",
     "text": [
      "Processing...  50000/ 50000\r"
     ]
    }
   ],
   "source": [
    "# nltk.download('wordnet')\n",
    "# nltk.download('stopwords')\n",
    "\n",
    "counter = 0\n",
    "\n",
    "REPLACE_WITH_SPACE = re.compile(r'[^A-Za-z\\s]')\n",
    "stop_words = set(stopwords.words(\"english\")) \n",
    "lemmatizer = WordNetLemmatizer()\n",
    "\n",
    "all_reviews = np.array(list(map(lambda x: preprocess(x, len(all_reviews)), all_reviews)))\n",
    "counter = 0"
   ]
  },
  {
   "cell_type": "code",
   "execution_count": 47,
   "metadata": {},
   "outputs": [],
   "source": [
    "X_train_data = all_reviews[:train_data.shape[0]]\n",
    "Y_train_data = train_data.sentiment.values\n",
    "X_submission = all_reviews[25001: 50000]"
   ]
  },
  {
   "cell_type": "code",
   "execution_count": 50,
   "metadata": {},
   "outputs": [],
   "source": [
    "train_data['review_lenght'] = np.array(list(map(len, X_train_data)))\n",
    "median = train_data['review_lenght'].median()\n",
    "mean = train_data['review_lenght'].mean()\n",
    "mode = train_data['review_lenght'].mode()[0]"
   ]
  },
  {
   "cell_type": "code",
   "execution_count": 51,
   "metadata": {},
   "outputs": [
    {
     "data": {
      "image/png": "[encoded data removed]",
      "text/plain": [
       "<Figure size 432x288 with 1 Axes>"
      ]
     },
     "metadata": {
      "needs_background": "light"
     },
     "output_type": "display_data"
    }
   ],
   "source": [
    "fig, ax = plt.subplots()\n",
    "sb.distplot(train_data['review_lenght'], bins=train_data['review_lenght'].max(),\n",
    "            hist_kws={\"alpha\": 0.9, \"color\": \"blue\"}, ax=ax,\n",
    "            kde_kws={\"color\": \"black\", 'linewidth': 3})\n",
    "ax.set_xlim(left=0, right=np.percentile(train_data['review_lenght'], 95))\n",
    "ax.set_xlabel('Words in review')\n",
    "ymax = 0.014\n",
    "plt.ylim(0, ymax)\n",
    "ax.plot([mode, mode], [0, ymax], '--', label=f'mode = {mode:.2f}', linewidth=4)\n",
    "ax.plot([mean, mean], [0, ymax], '--', label=f'mean = {mean:.2f}', linewidth=4)\n",
    "ax.plot([median, median], [0, ymax], '--',\n",
    "        label=f'median = {median:.2f}', linewidth=4)\n",
    "ax.set_title('Words per review distribution', fontsize=20)\n",
    "plt.legend()\n",
    "plt.show()\n"
   ]
  },
  {
   "cell_type": "code",
   "execution_count": 52,
   "metadata": {},
   "outputs": [
    {
     "name": "stdout",
     "output_type": "stream",
     "text": [
      "['space_station', 'near', 'the', 'solar_system']\n"
     ]
    }
   ],
   "source": [
    "bigrams = Phrases(sentences=all_reviews)\n",
    "trigrams = Phrases(sentences=bigrams[all_reviews])\n",
    "print(bigrams['space station near the solar system'.split()])"
   ]
  },
  {
   "cell_type": "code",
   "execution_count": 53,
   "metadata": {},
   "outputs": [],
   "source": [
    "embedding_vector_size = 256\n",
    "trigrams_model = Word2Vec(\n",
    "    sentences = trigrams[bigrams[all_reviews]],\n",
    "    size = embedding_vector_size,\n",
    "    min_count=3, window=5, workers=4)"
   ]
  },
  {
   "cell_type": "code",
   "execution_count": 54,
   "metadata": {},
   "outputs": [
    {
     "name": "stdout",
     "output_type": "stream",
     "text": [
      "Vocabulary size: 60113\n"
     ]
    }
   ],
   "source": [
    "print(\"Vocabulary size:\", len(trigrams_model.wv.vocab))"
   ]
  },
  {
   "cell_type": "code",
   "execution_count": 55,
   "metadata": {},
   "outputs": [
    {
     "data": {
      "text/plain": [
       "[('adore', 0.5961172580718994),\n",
       " ('cinderella', 0.5781397819519043),\n",
       " ('chatterly', 0.5445801019668579),\n",
       " ('lover', 0.5415459275245667),\n",
       " ('touch', 0.540716290473938),\n",
       " ('hate', 0.5376411080360413),\n",
       " ('heart_warm', 0.5196908712387085),\n",
       " ('heart', 0.5190286636352539),\n",
       " ('friendship', 0.5151803493499756),\n",
       " ('happy', 0.5147083401679993)]"
      ]
     },
     "execution_count": 55,
     "metadata": {},
     "output_type": "execute_result"
    }
   ],
   "source": [
    "trigrams_model.wv.most_similar('love')"
   ]
  },
  {
   "cell_type": "code",
   "execution_count": 56,
   "metadata": {},
   "outputs": [
    {
     "data": {
      "text/plain": [
       "'gun'"
      ]
     },
     "execution_count": 56,
     "metadata": {},
     "output_type": "execute_result"
    }
   ],
   "source": [
    "trigrams_model.wv.doesnt_match(['galaxy', 'starship', 'planet', 'gun'])"
   ]
  },
  {
   "cell_type": "code",
   "execution_count": 57,
   "metadata": {},
   "outputs": [],
   "source": [
    "# trigrams_model.save(\"word2vec.model\")"
   ]
  },
  {
   "cell_type": "code",
   "execution_count": 58,
   "metadata": {},
   "outputs": [
    {
     "name": "stdout",
     "output_type": "stream",
     "text": [
      "Vectorize sentences... (done)s with ngrams...\n"
     ]
    }
   ],
   "source": [
    "def vectorize_data(data, vocab: dict) -> list:\n",
    "    print('Vectorize sentences...', end='\\r')\n",
    "    keys = list(vocab.keys())\n",
    "    filter_unknown = lambda word: vocab.get(word, None) is not None\n",
    "    encode = lambda review: list(map(keys.index, filter(filter_unknown, review)))\n",
    "    vectorized = list(map(encode, data))\n",
    "    print('Vectorize sentences... (done)')\n",
    "    return vectorized\n",
    "\n",
    "print('Convert sentences to sentences with ngrams...', end='\\r')\n",
    "X_data = trigrams[bigrams[X_train_data]]\n",
    "\n",
    "input_length = 150\n",
    "X_pad = pad_sequences(\n",
    "    sequences=vectorize_data(X_data, vocab=trigrams_model.wv.vocab),\n",
    "    maxlen=input_length,\n",
    "    padding='post')"
   ]
  },
  {
   "cell_type": "markdown",
   "metadata": {},
   "source": [
    "## BiLSTM Model"
   ]
  },
  {
   "cell_type": "code",
   "execution_count": 60,
   "metadata": {},
   "outputs": [],
   "source": [
    "X_train, X_test, y_train, y_test = train_test_split(\n",
    "    X_pad,\n",
    "    Y_train_data,\n",
    "    test_size=0.05,\n",
    "    shuffle=True,\n",
    "    random_state=42)"
   ]
  },
  {
   "cell_type": "code",
   "execution_count": 61,
   "metadata": {},
   "outputs": [
    {
     "name": "stdout",
     "output_type": "stream",
     "text": [
      "Model: \"sequential_1\"\n",
      "_________________________________________________________________\n",
      "Layer (type)                 Output Shape              Param #   \n",
      "=================================================================\n",
      "embedding_1 (Embedding)      (None, 150, 256)          15388928  \n",
      "_________________________________________________________________\n",
      "bidirectional_1 (Bidirection (None, 256)               394240    \n",
      "_________________________________________________________________\n",
      "dropout_1 (Dropout)          (None, 256)               0         \n",
      "_________________________________________________________________\n",
      "dense_1 (Dense)              (None, 64)                16448     \n",
      "_________________________________________________________________\n",
      "dropout_2 (Dropout)          (None, 64)                0         \n",
      "_________________________________________________________________\n",
      "dense_2 (Dense)              (None, 1)                 65        \n",
      "=================================================================\n",
      "Total params: 15,799,681\n",
      "Trainable params: 410,753\n",
      "Non-trainable params: 15,388,928\n",
      "_________________________________________________________________\n"
     ]
    }
   ],
   "source": [
    "def build_model(embedding_matrix: np.ndarray, input_length: int):\n",
    "    model = Sequential()\n",
    "    model.add(Embedding(\n",
    "        input_dim = embedding_matrix.shape[0],\n",
    "        output_dim = embedding_matrix.shape[1], \n",
    "        input_length = input_length,\n",
    "        weights = [embedding_matrix],\n",
    "        trainable=False))\n",
    "    model.add(Bidirectional(LSTM(128, recurrent_dropout=0.1)))\n",
    "    model.add(Dropout(0.25))\n",
    "    model.add(Dense(64))\n",
    "    model.add(Dropout(0.3))\n",
    "    model.add(Dense(1, activation='sigmoid'))\n",
    "    model.summary()\n",
    "    return model\n",
    "\n",
    "model = build_model(\n",
    "    embedding_matrix=trigrams_model.wv.vectors,\n",
    "    input_length=input_length)"
   ]
  },
  {
   "cell_type": "code",
   "execution_count": 62,
   "metadata": {},
   "outputs": [
    {
     "name": "stdout",
     "output_type": "stream",
     "text": [
      "Train on 23750 samples, validate on 1250 samples\n",
      "Epoch 1/20\n",
      "23750/23750 [==============================] - 348s 15ms/step - loss: 0.7014 - accuracy: 0.5396 - val_loss: 0.6807 - val_accuracy: 0.5624\n",
      "Epoch 2/20\n",
      "23750/23750 [==============================] - 429s 18ms/step - loss: 0.6501 - accuracy: 0.6100 - val_loss: 0.5502 - val_accuracy: 0.7264\n",
      "Epoch 3/20\n",
      "23750/23750 [==============================] - 417s 18ms/step - loss: 0.5465 - accuracy: 0.7275 - val_loss: 0.5071 - val_accuracy: 0.7536\n",
      "Epoch 4/20\n",
      "23750/23750 [==============================] - 450s 19ms/step - loss: 0.5062 - accuracy: 0.7562 - val_loss: 0.4825 - val_accuracy: 0.7832\n",
      "Epoch 5/20\n",
      "23750/23750 [==============================] - 454s 19ms/step - loss: 0.4788 - accuracy: 0.7715 - val_loss: 0.4542 - val_accuracy: 0.7848\n",
      "Epoch 6/20\n",
      "23750/23750 [==============================] - 466s 20ms/step - loss: 0.4595 - accuracy: 0.7856 - val_loss: 0.4505 - val_accuracy: 0.7880\n",
      "Epoch 7/20\n",
      "23750/23750 [==============================] - 492s 21ms/step - loss: 0.4412 - accuracy: 0.7927 - val_loss: 0.4462 - val_accuracy: 0.7872\n",
      "Epoch 8/20\n",
      "23750/23750 [==============================] - 458s 19ms/step - loss: 0.4201 - accuracy: 0.8070 - val_loss: 0.4377 - val_accuracy: 0.7920\n",
      "Epoch 9/20\n",
      "23750/23750 [==============================] - 469s 20ms/step - loss: 0.3986 - accuracy: 0.8183 - val_loss: 0.4445 - val_accuracy: 0.7968\n",
      "Epoch 10/20\n",
      "23750/23750 [==============================] - 427s 18ms/step - loss: 0.3750 - accuracy: 0.8314 - val_loss: 0.4555 - val_accuracy: 0.7976\n",
      "Epoch 11/20\n",
      "23750/23750 [==============================] - 415s 17ms/step - loss: 0.3546 - accuracy: 0.8399 - val_loss: 0.4752 - val_accuracy: 0.7984\n",
      "Epoch 12/20\n",
      "23750/23750 [==============================] - 412s 17ms/step - loss: 0.3289 - accuracy: 0.8534 - val_loss: 0.4939 - val_accuracy: 0.7984\n",
      "Epoch 13/20\n",
      "23750/23750 [==============================] - 419s 18ms/step - loss: 0.3023 - accuracy: 0.8667 - val_loss: 0.5039 - val_accuracy: 0.7896\n",
      "Epoch 14/20\n",
      "23750/23750 [==============================] - 414s 17ms/step - loss: 0.2869 - accuracy: 0.8761 - val_loss: 0.5422 - val_accuracy: 0.7960\n",
      "Epoch 15/20\n",
      "23750/23750 [==============================] - 427s 18ms/step - loss: 0.2643 - accuracy: 0.8860 - val_loss: 0.5719 - val_accuracy: 0.7928\n",
      "Epoch 16/20\n",
      "23750/23750 [==============================] - 470s 20ms/step - loss: 0.2489 - accuracy: 0.8931 - val_loss: 0.5864 - val_accuracy: 0.7808\n",
      "Epoch 17/20\n",
      "23750/23750 [==============================] - 413s 17ms/step - loss: 0.2288 - accuracy: 0.9031 - val_loss: 0.6005 - val_accuracy: 0.7824\n",
      "Epoch 18/20\n",
      "23750/23750 [==============================] - 413s 17ms/step - loss: 0.2107 - accuracy: 0.9134 - val_loss: 0.6168 - val_accuracy: 0.7960\n",
      "Epoch 19/20\n",
      "23750/23750 [==============================] - 430s 18ms/step - loss: 0.1947 - accuracy: 0.9196 - val_loss: 0.6673 - val_accuracy: 0.7880\n",
      "Epoch 20/20\n",
      "23750/23750 [==============================] - 452s 19ms/step - loss: 0.1753 - accuracy: 0.9292 - val_loss: 0.6983 - val_accuracy: 0.7976\n"
     ]
    }
   ],
   "source": [
    "model.compile(\n",
    "    loss=\"binary_crossentropy\",\n",
    "    optimizer='adam',\n",
    "    metrics=['accuracy'])\n",
    "\n",
    "history = model.fit(\n",
    "    x=X_train,\n",
    "    y=y_train,\n",
    "    validation_data=(X_test, y_test),\n",
    "    batch_size=100,\n",
    "    epochs=20)"
   ]
  },
  {
   "cell_type": "code",
   "execution_count": 63,
   "metadata": {},
   "outputs": [],
   "source": [
    "def plot_confusion_matrix(y_true, y_pred, ax, class_names, vmax=None,\n",
    "                          normed=True, title='Confusion matrix'):\n",
    "    matrix = confusion_matrix(y_true,y_pred)\n",
    "    if normed:\n",
    "        matrix = matrix.astype('float') / matrix.sum(axis=1)[:, np.newaxis]\n",
    "    sb.heatmap(matrix, vmax=vmax, annot=True, square=True, ax=ax,\n",
    "               cmap=plt.cm.Blues_r, cbar=False, linecolor='black',\n",
    "               linewidths=1, xticklabels=class_names)\n",
    "    ax.set_title(title, y=1.20, fontsize=16)\n",
    "    #ax.set_ylabel('True labels', fontsize=12)\n",
    "    ax.set_xlabel('Predicted labels', y=1.10, fontsize=12)\n",
    "    ax.set_yticklabels(class_names, rotation=0)"
   ]
  },
  {
   "cell_type": "code",
   "execution_count": 64,
   "metadata": {},
   "outputs": [],
   "source": [
    "y_train_pred = model.predict_classes(X_train)\n",
    "y_test_pred = model.predict_classes(X_test)"
   ]
  },
  {
   "cell_type": "code",
   "execution_count": 65,
   "metadata": {},
   "outputs": [
    {
     "data": {
      "image/png": "[encoded data removed]",
      "text/plain": [
       "<Figure size 432x288 with 2 Axes>"
      ]
     },
     "metadata": {
      "needs_background": "light"
     },
     "output_type": "display_data"
    }
   ],
   "source": [
    "fig, (axis1, axis2) = plt.subplots(nrows=1, ncols=2)\n",
    "plot_confusion_matrix(y_train, y_train_pred, ax=axis1,\n",
    "                      title='Confusion matrix (train data)',\n",
    "                      class_names=['Positive', 'Negative'])\n",
    "plot_confusion_matrix(y_test, y_test_pred, ax=axis2,\n",
    "                      title='Confusion matrix (test data)',\n",
    "                      class_names=['Positive', 'Negative'])"
   ]
  },
  {
   "cell_type": "code",
   "execution_count": 67,
   "metadata": {},
   "outputs": [
    {
     "data": {
      "image/png": "[encoded data removed]",
      "text/plain": [
       "<Figure size 1152x432 with 2 Axes>"
      ]
     },
     "metadata": {
      "needs_background": "light"
     },
     "output_type": "display_data"
    }
   ],
   "source": [
    "fig, (axis1, axis2) = plt.subplots(nrows=1, ncols=2, figsize=(16,6))\n",
    "\n",
    "# summarize history for accuracy\n",
    "axis1.plot(history.history['accuracy'], label='Train', linewidth=3)\n",
    "axis1.plot(history.history['val_accuracy'], label='Validation', linewidth=3)\n",
    "axis1.set_title('Model accuracy', fontsize=16)\n",
    "axis1.set_ylabel('accuracy')\n",
    "axis1.set_xlabel('epoch')\n",
    "axis1.legend(loc='upper left')\n",
    "\n",
    "# summarize history for loss\n",
    "axis2.plot(history.history['loss'], label='Train', linewidth=3)\n",
    "axis2.plot(history.history['val_loss'], label='Validation', linewidth=3)\n",
    "axis2.set_title('Model loss', fontsize=16)\n",
    "axis2.set_ylabel('loss')\n",
    "axis2.set_xlabel('epoch')\n",
    "axis2.legend(loc='upper right')\n",
    "plt.show()"
   ]
  },
  {
   "cell_type": "code",
   "execution_count": null,
   "metadata": {},
   "outputs": [],
   "source": []
  }
 ],
 "metadata": {
  "kernelspec": {
   "display_name": "new",
   "language": "python",
   "name": "new"
  },
  "language_info": {
   "codemirror_mode": {
    "name": "ipython",
    "version": 3
   },
   "file_extension": ".py",
   "mimetype": "text/x-python",
   "name": "python",
   "nbconvert_exporter": "python",
   "pygments_lexer": "ipython3",
   "version": "3.7.6"
  }
 },
 "nbformat": 4,
 "nbformat_minor": 4
}
