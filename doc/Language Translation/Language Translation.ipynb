{
 "cells": [
  {
   "cell_type": "code",
   "execution_count": 1,
   "metadata": {},
   "outputs": [],
   "source": [
    "# pip install googletrans"
   ]
  },
  {
   "cell_type": "code",
   "execution_count": 2,
   "metadata": {},
   "outputs": [],
   "source": [
    "from googletrans import Translator"
   ]
  },
  {
   "cell_type": "code",
   "execution_count": 3,
   "metadata": {},
   "outputs": [
    {
     "name": "stdout",
     "output_type": "stream",
     "text": [
      "The attitude is very good, the speed is fast and the taste is great!\n",
      "態度はとても良く、スピードは速く、味は素晴らしいです！\n",
      "태도는 매우 좋고 속도는 빠르며 맛은 좋습니다!\n"
     ]
    }
   ],
   "source": [
    "#--------------translate to a specific language----------------#\n",
    "translator = Translator()\n",
    "print(translator.translate('态度非常好，速度快，味道好极了!').text)\n",
    "print(translator.translate('态度非常好，速度快，味道好极了!', dest='ja').text)\n",
    "print(translator.translate('态度非常好，速度快，味道好极了!', dest='ko').text)"
   ]
  },
  {
   "cell_type": "code",
   "execution_count": 4,
   "metadata": {},
   "outputs": [
    {
     "name": "stdout",
     "output_type": "stream",
     "text": [
      "zh-CN\n",
      "en\n",
      "ja\n",
      "ko\n"
     ]
    }
   ],
   "source": [
    "#--------------detect the language source----------------#\n",
    "print(translator.detect('态度非常好，速度快，味道好极了!').lang)\n",
    "print(translator.detect('The attitude is very good, the speed is fast and the taste is great!').lang)\n",
    "print(translator.detect('態度はとても良く、スピードは速く、味は素晴らしいです！').lang)\n",
    "print(translator.detect('태도는 매우 좋고 속도는 빠르며 맛은 좋습니다!').lang)"
   ]
  },
  {
   "cell_type": "code",
   "execution_count": 5,
   "metadata": {},
   "outputs": [
    {
     "name": "stdout",
     "output_type": "stream",
     "text": [
      "Insurance payout ratio increased in April, and the incidence of thyroid cancer increased\n",
      "Direct insurance company policy sales increase\n",
      "包销服务将在下半年扩大\n"
     ]
    }
   ],
   "source": [
    "print(translator.translate('四月份保险赔付率有所上升，甲状腺癌发病率提升').text)\n",
    "print(translator.translate('直保公司保单销售量提升').text)\n",
    "print(translator.translate('Underwritting Service Expanded in the next semi-year', dest='zh-CN').text)"
   ]
  },
  {
   "cell_type": "markdown",
   "metadata": {},
   "source": [
    "### **License**"
   ]
  },
  {
   "cell_type": "markdown",
   "metadata": {},
   "source": [
    "The MIT License (MIT)\n",
    "\n",
    "Copyright (c) 2015 SuHun Han\n",
    "\n",
    "Permission is hereby granted, free of charge, to any person obtaining a copy\n",
    "of this software and associated documentation files (the \"Software\"), to deal\n",
    "in the Software without restriction, including without limitation the rights\n",
    "to use, copy, modify, merge, publish, distribute, sublicense, and/or sell\n",
    "copies of the Software, and to permit persons to whom the Software is\n",
    "furnished to do so, subject to the following conditions:\n",
    "\n",
    "The above copyright notice and this permission notice shall be included in all\n",
    "copies or substantial portions of the Software.\n",
    "\n",
    "THE SOFTWARE IS PROVIDED \"AS IS\", WITHOUT WARRANTY OF ANY KIND, EXPRESS OR\n",
    "IMPLIED, INCLUDING BUT NOT LIMITED TO THE WARRANTIES OF MERCHANTABILITY,\n",
    "FITNESS FOR A PARTICULAR PURPOSE AND NONINFRINGEMENT. IN NO EVENT SHALL THE\n",
    "AUTHORS OR COPYRIGHT HOLDERS BE LIABLE FOR ANY CLAIM, DAMAGES OR OTHER\n",
    "LIABILITY, WHETHER IN AN ACTION OF CONTRACT, TORT OR OTHERWISE, ARISING FROM,\n",
    "OUT OF OR IN CONNECTION WITH THE SOFTWARE OR THE USE OR OTHER DEALINGS IN THE\n",
    "SOFTWARE."
   ]
  },
  {
   "cell_type": "code",
   "execution_count": null,
   "metadata": {},
   "outputs": [],
   "source": []
  }
 ],
 "metadata": {
  "kernelspec": {
   "display_name": "new",
   "language": "python",
   "name": "new"
  },
  "language_info": {
   "codemirror_mode": {
    "name": "ipython",
    "version": 3
   },
   "file_extension": ".py",
   "mimetype": "text/x-python",
   "name": "python",
   "nbconvert_exporter": "python",
   "pygments_lexer": "ipython3",
   "version": "3.7.6"
  }
 },
 "nbformat": 4,
 "nbformat_minor": 4
}
